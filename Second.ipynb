{
  "nbformat": 4,
  "nbformat_minor": 0,
  "metadata": {
    "colab": {
      "provenance": [],
      "authorship_tag": "ABX9TyPf6kjQoXNqLxUgWhVA19Jc",
      "include_colab_link": true
    },
    "kernelspec": {
      "name": "python3",
      "display_name": "Python 3"
    },
    "language_info": {
      "name": "python"
    }
  },
  "cells": [
    {
      "cell_type": "markdown",
      "metadata": {
        "id": "view-in-github",
        "colab_type": "text"
      },
      "source": [
        "<a href=\"https://colab.research.google.com/github/VidyakinIvan/II_Second/blob/main/Second.ipynb\" target=\"_parent\"><img src=\"https://colab.research.google.com/assets/colab-badge.svg\" alt=\"Open In Colab\"/></a>"
      ]
    },
    {
      "cell_type": "markdown",
      "source": [
        "#Импорты"
      ],
      "metadata": {
        "id": "gGp9um-ksGbY"
      }
    },
    {
      "cell_type": "code",
      "source": [
        "import requests\n",
        "import networkx as nx"
      ],
      "metadata": {
        "id": "_aZGDNxYsE-I"
      },
      "execution_count": null,
      "outputs": []
    },
    {
      "cell_type": "markdown",
      "source": [
        "#Стартовые данные"
      ],
      "metadata": {
        "id": "zXgcyU0hsMHg"
      }
    },
    {
      "cell_type": "code",
      "source": [
        "URL = 'https://api.vk.com/method/friends.get'\n",
        "V = '5.131'\n",
        "TOKEN = \"Вставьте токен\"\n",
        "USER_ID = 'Встав'\n",
        "request = f\"{URL}?\" \\\n",
        "            f\"v={V}&\" \\\n",
        "            f\"access_token={TOKEN}&\" \\\n",
        "            f\"user_id={USER_ID}&\""
      ],
      "metadata": {
        "id": "FuoPHIKusEYZ"
      },
      "execution_count": null,
      "outputs": []
    },
    {
      "cell_type": "markdown",
      "source": [
        "#Получение словаря друзей"
      ],
      "metadata": {
        "id": "bVl-8-LDDD5J"
      }
    },
    {
      "cell_type": "code",
      "source": [
        "graph = {}\n",
        "\n",
        "print(requests.get(request).json())\n",
        "data = requests.get(request).json()['response']['items']\n",
        "graph[USER_ID] = data\n",
        "\n",
        "unique_ids = set()\n",
        "\n",
        "for id in data:\n",
        "    if len(unique_ids) > 200:\n",
        "        break\n",
        "    try:\n",
        "        request = f\"{URL}?\" \\\n",
        "                  f\"v={V}&\" \\\n",
        "                  f\"access_token={TOKEN}&\" \\\n",
        "                  f\"user_id={id}&\"\n",
        "\n",
        "        data = requests.get(request).json()['response']['items']\n",
        "        graph[str(id)] = data\n",
        "        unique_ids.update(data)\n",
        "    except KeyError:\n",
        "        pass"
      ],
      "metadata": {
        "id": "gnBQgZO4DBHh"
      },
      "execution_count": null,
      "outputs": []
    },
    {
      "cell_type": "markdown",
      "source": [
        "#Создание графа друзей"
      ],
      "metadata": {
        "id": "kzJX3wS7DV07"
      }
    },
    {
      "cell_type": "code",
      "source": [
        "G = nx.Graph()\n",
        "\n",
        "for node, neighbors in graph.items():\n",
        "    for neighbor in neighbors:\n",
        "        G.add_edge(node, neighbor)"
      ],
      "metadata": {
        "id": "JCfkf_fKDYaz"
      },
      "execution_count": null,
      "outputs": []
    },
    {
      "cell_type": "markdown",
      "source": [
        "#Рассчёт центральности для конкретной вершины"
      ],
      "metadata": {
        "id": "GNm8ArniDcZK"
      }
    },
    {
      "cell_type": "code",
      "source": [
        "closeness_centrality = nx.closeness_centrality(G, u=USER_ID)\n",
        "print(closeness_centrality)\n",
        "\n",
        "betweenness_centrality = nx.betweenness_centrality(G, normalized=True)[USER_ID]\n",
        "print(betweenness_centrality)\n",
        "\n",
        "eigenvector_centrality = nx.eigenvector_centrality(G, max_iter=1000)[USER_ID]\n",
        "print(eigenvector_centrality)"
      ],
      "metadata": {
        "id": "L6xLpiADDgda"
      },
      "execution_count": null,
      "outputs": []
    },
    {
      "cell_type": "markdown",
      "source": [
        "#Поиск вершины с наибольшей центральностью по близости"
      ],
      "metadata": {
        "id": "68N1gkcJDr1y"
      }
    },
    {
      "cell_type": "code",
      "source": [
        "dict_closeness_centrality = {}\n",
        "max = 0\n",
        "nodemaxes = list()\n",
        "for node in G.nodes:\n",
        "    current_node_closeness_centrality = nx.closeness_centrality(G, u=node)\n",
        "    dict_closeness_centrality[node] = current_node_closeness_centrality\n",
        "    if dict_closeness_centrality[node] > max:\n",
        "        max = dict_closeness_centrality[node]\n",
        "        nodemaxes = [node]\n",
        "    elif dict_closeness_centrality[node] == max:\n",
        "        nodemaxes = nodemaxes.append(node)\n",
        "print(*nodemaxes, max)"
      ],
      "metadata": {
        "id": "8s0d3_6hDvrZ"
      },
      "execution_count": null,
      "outputs": []
    },
    {
      "cell_type": "markdown",
      "source": [
        "#Поиск вершины с наибольшей центральностью по посредничеству"
      ],
      "metadata": {
        "id": "G9gWYXWBD66x"
      }
    },
    {
      "cell_type": "code",
      "source": [
        "dict_betweenness_centrality = {}\n",
        "max = 0\n",
        "nodemaxes = list()\n",
        "for node in G.nodes:\n",
        "    current_node_betweenness_centrality = nx.betweenness_centrality(G, normalized=True)[node]\n",
        "    dict_betweenness_centrality[node] = current_node_betweenness_centrality\n",
        "    if dict_betweenness_centrality[node] > max:\n",
        "        max = dict_betweenness_centrality[node]\n",
        "        nodemaxes = [node]\n",
        "    elif dict_betweenness_centrality[node] == max:\n",
        "        nodemaxes = nodemaxes.append(node)\n",
        "print(*nodemaxes, max)"
      ],
      "metadata": {
        "id": "WHu1WV65EDIZ"
      },
      "execution_count": null,
      "outputs": []
    },
    {
      "cell_type": "markdown",
      "source": [
        "#Поиск вершины с наибольшей центральностью по собственному вектору"
      ],
      "metadata": {
        "id": "b3V0yY1YD__K"
      }
    },
    {
      "cell_type": "code",
      "source": [
        "dict_eigenvector_centrality = {}\n",
        "max = 0\n",
        "nodemaxes = list()\n",
        "for node in G.nodes:\n",
        "    current_node_eigenvector_centrality = nx.eigenvector_centrality(G, max_iter=1000)[node]\n",
        "    dict_eigenvector_centrality[node] = current_node_eigenvector_centrality\n",
        "    if dict_eigenvector_centrality[node] > max:\n",
        "        max = dict_eigenvector_centrality[node]\n",
        "        nodemaxes = [node]\n",
        "    elif dict_eigenvector_centrality[node] == max:\n",
        "        nodemaxes = nodemaxes.append(node)\n",
        "print(*nodemaxes, max)"
      ],
      "metadata": {
        "id": "CpvSMSv1EGIh"
      },
      "execution_count": null,
      "outputs": []
    }
  ]
}